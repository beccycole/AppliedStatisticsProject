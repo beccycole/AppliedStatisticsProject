{
 "cells": [
  {
   "cell_type": "markdown",
   "metadata": {},
   "source": [
    "## Boston Housing Dataset"
   ]
  },
  {
   "cell_type": "markdown",
   "metadata": {},
   "source": [
    "### About the Dataset\n",
    "The Boston Housing Dataset contains information collected by the US Census Service in 1970 on various house prices in the area of Boston. The dataset is small in size with only 506 samples and 14 variables. The data gives values for various features of different suburbs of Boston as well as the median-value for homes in each suburb. The features were chosen to reflect various aspects believed to influence houses prices including the structure of the house (age and spaciousness), the quality of the neighborhood, transportation access to employment centers and highways, and pollution.\n",
    "\n",
    "### Objective\n",
    "The goals of this assessment are as follows:\n",
    "\n",
    " - describe the dataset using descriptive statistics and plots.\n",
    "\n",
    "\n",
    "### Python Libraries\n",
    "Python has a large number of libraries which makes it a powerful programming language for analysing data. The libraries that were imported and used in this project were NumPy, Pandas, Matplotlib, Seaborn, Sklearn, Scipy and Keras.\n",
    "\n",
    " - NumPy - an array processing package.\n",
    " - Pandas - a data processing library which provides tools for shaping, merging, reshaping, and slicing data sets.\n",
    " - Matplotlib - a graphing library to create 2D plots and graphs on a variety of data formats.\n",
    " - Seaborn library - a plotting and styling library.\n",
    " - Scikit-learn is a library that provides many unsupervised and supervised learning algorithms.\n",
    " - SciPy is a library that uses NumPy for more mathematical functions.\n",
    " - Keras is an open-source neural-network library written in Python."
   ]
  },
  {
   "cell_type": "code",
   "execution_count": 69,
   "metadata": {},
   "outputs": [],
   "source": [
    "# for generating random variables\n",
    "import numpy as np\n",
    "\n",
    "# for plotting\n",
    "import matplotlib.pyplot as plt \n",
    "\n",
    "# for managing data\n",
    "import pandas as pd\n",
    "\n",
    "# for plotting\n",
    "import seaborn as sns \n",
    "\n",
    "# for t-tests and ANOVA\n",
    "import scipy.stats as stats\n",
    "\n",
    "# for learning algorithms\n",
    "import sklearn\n",
    "\n",
    "# to create a neural network\n",
    "import keras as kr\n",
    "\n",
    "# for encoding categorical variables.\n",
    "import sklearn.preprocessing as pre\n",
    "\n",
    "# for splitting into training and test sets.\n",
    "import sklearn.model_selection as mod\n",
    "\n",
    "%matplotlib inline\n",
    "\n",
    "# to increase the size of the plots as plots are too small otherwise\n",
    "plt.rcParams['figure.figsize'] = (20.0, 10.0)"
   ]
  },
  {
   "cell_type": "markdown",
   "metadata": {},
   "source": [
    "## Load the dataset\n",
    "The Boston Housing dataset can be accessed through the scikit-learn library. The dataset can be directly imported from the scikit-learn library rather than downloading the csv file from an external website. The Boston dataset is made of 506 rows and 14 columns. It is a relatively small, clean and well-known dataset used for machine learning projects."
   ]
  },
  {
   "cell_type": "code",
   "execution_count": 70,
   "metadata": {},
   "outputs": [],
   "source": [
    "# load the dataset from the scikit-learn library\n",
    "\n",
    "from sklearn.datasets import load_boston\n",
    "boston_dataset = load_boston()"
   ]
  },
  {
   "cell_type": "code",
   "execution_count": 71,
   "metadata": {},
   "outputs": [
    {
     "name": "stdout",
     "output_type": "stream",
     "text": [
      ".. _boston_dataset:\n",
      "\n",
      "Boston house prices dataset\n",
      "---------------------------\n",
      "\n",
      "**Data Set Characteristics:**  \n",
      "\n",
      "    :Number of Instances: 506 \n",
      "\n",
      "    :Number of Attributes: 13 numeric/categorical predictive. Median Value (attribute 14) is usually the target.\n",
      "\n",
      "    :Attribute Information (in order):\n",
      "        - CRIM     per capita crime rate by town\n",
      "        - ZN       proportion of residential land zoned for lots over 25,000 sq.ft.\n",
      "        - INDUS    proportion of non-retail business acres per town\n",
      "        - CHAS     Charles River dummy variable (= 1 if tract bounds river; 0 otherwise)\n",
      "        - NOX      nitric oxides concentration (parts per 10 million)\n",
      "        - RM       average number of rooms per dwelling\n",
      "        - AGE      proportion of owner-occupied units built prior to 1940\n",
      "        - DIS      weighted distances to five Boston employment centres\n",
      "        - RAD      index of accessibility to radial highways\n",
      "        - TAX      full-value property-tax rate per $10,000\n",
      "        - PTRATIO  pupil-teacher ratio by town\n",
      "        - B        1000(Bk - 0.63)^2 where Bk is the proportion of blacks by town\n",
      "        - LSTAT    % lower status of the population\n",
      "        - MEDV     Median value of owner-occupied homes in $1000's\n",
      "\n",
      "    :Missing Attribute Values: None\n",
      "\n",
      "    :Creator: Harrison, D. and Rubinfeld, D.L.\n",
      "\n",
      "This is a copy of UCI ML housing dataset.\n",
      "https://archive.ics.uci.edu/ml/machine-learning-databases/housing/\n",
      "\n",
      "\n",
      "This dataset was taken from the StatLib library which is maintained at Carnegie Mellon University.\n",
      "\n",
      "The Boston house-price data of Harrison, D. and Rubinfeld, D.L. 'Hedonic\n",
      "prices and the demand for clean air', J. Environ. Economics & Management,\n",
      "vol.5, 81-102, 1978.   Used in Belsley, Kuh & Welsch, 'Regression diagnostics\n",
      "...', Wiley, 1980.   N.B. Various transformations are used in the table on\n",
      "pages 244-261 of the latter.\n",
      "\n",
      "The Boston house-price data has been used in many machine learning papers that address regression\n",
      "problems.   \n",
      "     \n",
      ".. topic:: References\n",
      "\n",
      "   - Belsley, Kuh & Welsch, 'Regression diagnostics: Identifying Influential Data and Sources of Collinearity', Wiley, 1980. 244-261.\n",
      "   - Quinlan,R. (1993). Combining Instance-Based and Model-Based Learning. In Proceedings on the Tenth International Conference of Machine Learning, 236-243, University of Massachusetts, Amherst. Morgan Kaufmann.\n",
      "\n"
     ]
    }
   ],
   "source": [
    "# print the shape of the dataset and a description of the variables. This shows 506 samples, 14 variables and no missing values.\n",
    "\n",
    "print(boston_dataset.DESCR)"
   ]
  },
  {
   "cell_type": "markdown",
   "metadata": {},
   "source": [
    "## Create a Panda's Dataframe\n",
    "The data from the Boston dataset is transferred to a Panda's dataframe to carry out descriptive statistics on the dataset. A Panda's dataframe is a table structure with labelled rows and columns."
   ]
  },
  {
   "cell_type": "code",
   "execution_count": 72,
   "metadata": {},
   "outputs": [
    {
     "data": {
      "text/html": [
       "<div>\n",
       "<style scoped>\n",
       "    .dataframe tbody tr th:only-of-type {\n",
       "        vertical-align: middle;\n",
       "    }\n",
       "\n",
       "    .dataframe tbody tr th {\n",
       "        vertical-align: top;\n",
       "    }\n",
       "\n",
       "    .dataframe thead th {\n",
       "        text-align: right;\n",
       "    }\n",
       "</style>\n",
       "<table border=\"1\" class=\"dataframe\">\n",
       "  <thead>\n",
       "    <tr style=\"text-align: right;\">\n",
       "      <th></th>\n",
       "      <th>CRIM</th>\n",
       "      <th>ZN</th>\n",
       "      <th>INDUS</th>\n",
       "      <th>CHAS</th>\n",
       "      <th>NOX</th>\n",
       "      <th>RM</th>\n",
       "      <th>AGE</th>\n",
       "      <th>DIS</th>\n",
       "      <th>RAD</th>\n",
       "      <th>TAX</th>\n",
       "      <th>PTRATIO</th>\n",
       "      <th>B</th>\n",
       "      <th>LSTAT</th>\n",
       "    </tr>\n",
       "  </thead>\n",
       "  <tbody>\n",
       "    <tr>\n",
       "      <td>0</td>\n",
       "      <td>0.00632</td>\n",
       "      <td>18.0</td>\n",
       "      <td>2.31</td>\n",
       "      <td>0.0</td>\n",
       "      <td>0.538</td>\n",
       "      <td>6.575</td>\n",
       "      <td>65.2</td>\n",
       "      <td>4.0900</td>\n",
       "      <td>1.0</td>\n",
       "      <td>296.0</td>\n",
       "      <td>15.3</td>\n",
       "      <td>396.90</td>\n",
       "      <td>4.98</td>\n",
       "    </tr>\n",
       "    <tr>\n",
       "      <td>1</td>\n",
       "      <td>0.02731</td>\n",
       "      <td>0.0</td>\n",
       "      <td>7.07</td>\n",
       "      <td>0.0</td>\n",
       "      <td>0.469</td>\n",
       "      <td>6.421</td>\n",
       "      <td>78.9</td>\n",
       "      <td>4.9671</td>\n",
       "      <td>2.0</td>\n",
       "      <td>242.0</td>\n",
       "      <td>17.8</td>\n",
       "      <td>396.90</td>\n",
       "      <td>9.14</td>\n",
       "    </tr>\n",
       "    <tr>\n",
       "      <td>2</td>\n",
       "      <td>0.02729</td>\n",
       "      <td>0.0</td>\n",
       "      <td>7.07</td>\n",
       "      <td>0.0</td>\n",
       "      <td>0.469</td>\n",
       "      <td>7.185</td>\n",
       "      <td>61.1</td>\n",
       "      <td>4.9671</td>\n",
       "      <td>2.0</td>\n",
       "      <td>242.0</td>\n",
       "      <td>17.8</td>\n",
       "      <td>392.83</td>\n",
       "      <td>4.03</td>\n",
       "    </tr>\n",
       "    <tr>\n",
       "      <td>3</td>\n",
       "      <td>0.03237</td>\n",
       "      <td>0.0</td>\n",
       "      <td>2.18</td>\n",
       "      <td>0.0</td>\n",
       "      <td>0.458</td>\n",
       "      <td>6.998</td>\n",
       "      <td>45.8</td>\n",
       "      <td>6.0622</td>\n",
       "      <td>3.0</td>\n",
       "      <td>222.0</td>\n",
       "      <td>18.7</td>\n",
       "      <td>394.63</td>\n",
       "      <td>2.94</td>\n",
       "    </tr>\n",
       "    <tr>\n",
       "      <td>4</td>\n",
       "      <td>0.06905</td>\n",
       "      <td>0.0</td>\n",
       "      <td>2.18</td>\n",
       "      <td>0.0</td>\n",
       "      <td>0.458</td>\n",
       "      <td>7.147</td>\n",
       "      <td>54.2</td>\n",
       "      <td>6.0622</td>\n",
       "      <td>3.0</td>\n",
       "      <td>222.0</td>\n",
       "      <td>18.7</td>\n",
       "      <td>396.90</td>\n",
       "      <td>5.33</td>\n",
       "    </tr>\n",
       "  </tbody>\n",
       "</table>\n",
       "</div>"
      ],
      "text/plain": [
       "      CRIM    ZN  INDUS  CHAS    NOX     RM   AGE     DIS  RAD    TAX  \\\n",
       "0  0.00632  18.0   2.31   0.0  0.538  6.575  65.2  4.0900  1.0  296.0   \n",
       "1  0.02731   0.0   7.07   0.0  0.469  6.421  78.9  4.9671  2.0  242.0   \n",
       "2  0.02729   0.0   7.07   0.0  0.469  7.185  61.1  4.9671  2.0  242.0   \n",
       "3  0.03237   0.0   2.18   0.0  0.458  6.998  45.8  6.0622  3.0  222.0   \n",
       "4  0.06905   0.0   2.18   0.0  0.458  7.147  54.2  6.0622  3.0  222.0   \n",
       "\n",
       "   PTRATIO       B  LSTAT  \n",
       "0     15.3  396.90   4.98  \n",
       "1     17.8  396.90   9.14  \n",
       "2     17.8  392.83   4.03  \n",
       "3     18.7  394.63   2.94  \n",
       "4     18.7  396.90   5.33  "
      ]
     },
     "execution_count": 72,
     "metadata": {},
     "output_type": "execute_result"
    }
   ],
   "source": [
    "# load data into dataframe and print the first 5 rows of data\n",
    "boston = pd.DataFrame(boston_dataset.data, columns=boston_dataset.feature_names)\n",
    "\n",
    "# Print first 5 rows\n",
    "boston.head()"
   ]
  },
  {
   "cell_type": "code",
   "execution_count": 73,
   "metadata": {},
   "outputs": [
    {
     "data": {
      "text/html": [
       "<div>\n",
       "<style scoped>\n",
       "    .dataframe tbody tr th:only-of-type {\n",
       "        vertical-align: middle;\n",
       "    }\n",
       "\n",
       "    .dataframe tbody tr th {\n",
       "        vertical-align: top;\n",
       "    }\n",
       "\n",
       "    .dataframe thead th {\n",
       "        text-align: right;\n",
       "    }\n",
       "</style>\n",
       "<table border=\"1\" class=\"dataframe\">\n",
       "  <thead>\n",
       "    <tr style=\"text-align: right;\">\n",
       "      <th></th>\n",
       "      <th>CRIM</th>\n",
       "      <th>ZN</th>\n",
       "      <th>INDUS</th>\n",
       "      <th>CHAS</th>\n",
       "      <th>NOX</th>\n",
       "      <th>RM</th>\n",
       "      <th>AGE</th>\n",
       "      <th>DIS</th>\n",
       "      <th>RAD</th>\n",
       "      <th>TAX</th>\n",
       "      <th>PTRATIO</th>\n",
       "      <th>B</th>\n",
       "      <th>LSTAT</th>\n",
       "      <th>MEDV</th>\n",
       "    </tr>\n",
       "  </thead>\n",
       "  <tbody>\n",
       "    <tr>\n",
       "      <td>0</td>\n",
       "      <td>0.00632</td>\n",
       "      <td>18.0</td>\n",
       "      <td>2.31</td>\n",
       "      <td>0.0</td>\n",
       "      <td>0.538</td>\n",
       "      <td>6.575</td>\n",
       "      <td>65.2</td>\n",
       "      <td>4.0900</td>\n",
       "      <td>1.0</td>\n",
       "      <td>296.0</td>\n",
       "      <td>15.3</td>\n",
       "      <td>396.90</td>\n",
       "      <td>4.98</td>\n",
       "      <td>24.0</td>\n",
       "    </tr>\n",
       "    <tr>\n",
       "      <td>1</td>\n",
       "      <td>0.02731</td>\n",
       "      <td>0.0</td>\n",
       "      <td>7.07</td>\n",
       "      <td>0.0</td>\n",
       "      <td>0.469</td>\n",
       "      <td>6.421</td>\n",
       "      <td>78.9</td>\n",
       "      <td>4.9671</td>\n",
       "      <td>2.0</td>\n",
       "      <td>242.0</td>\n",
       "      <td>17.8</td>\n",
       "      <td>396.90</td>\n",
       "      <td>9.14</td>\n",
       "      <td>21.6</td>\n",
       "    </tr>\n",
       "    <tr>\n",
       "      <td>2</td>\n",
       "      <td>0.02729</td>\n",
       "      <td>0.0</td>\n",
       "      <td>7.07</td>\n",
       "      <td>0.0</td>\n",
       "      <td>0.469</td>\n",
       "      <td>7.185</td>\n",
       "      <td>61.1</td>\n",
       "      <td>4.9671</td>\n",
       "      <td>2.0</td>\n",
       "      <td>242.0</td>\n",
       "      <td>17.8</td>\n",
       "      <td>392.83</td>\n",
       "      <td>4.03</td>\n",
       "      <td>34.7</td>\n",
       "    </tr>\n",
       "    <tr>\n",
       "      <td>3</td>\n",
       "      <td>0.03237</td>\n",
       "      <td>0.0</td>\n",
       "      <td>2.18</td>\n",
       "      <td>0.0</td>\n",
       "      <td>0.458</td>\n",
       "      <td>6.998</td>\n",
       "      <td>45.8</td>\n",
       "      <td>6.0622</td>\n",
       "      <td>3.0</td>\n",
       "      <td>222.0</td>\n",
       "      <td>18.7</td>\n",
       "      <td>394.63</td>\n",
       "      <td>2.94</td>\n",
       "      <td>33.4</td>\n",
       "    </tr>\n",
       "    <tr>\n",
       "      <td>4</td>\n",
       "      <td>0.06905</td>\n",
       "      <td>0.0</td>\n",
       "      <td>2.18</td>\n",
       "      <td>0.0</td>\n",
       "      <td>0.458</td>\n",
       "      <td>7.147</td>\n",
       "      <td>54.2</td>\n",
       "      <td>6.0622</td>\n",
       "      <td>3.0</td>\n",
       "      <td>222.0</td>\n",
       "      <td>18.7</td>\n",
       "      <td>396.90</td>\n",
       "      <td>5.33</td>\n",
       "      <td>36.2</td>\n",
       "    </tr>\n",
       "  </tbody>\n",
       "</table>\n",
       "</div>"
      ],
      "text/plain": [
       "      CRIM    ZN  INDUS  CHAS    NOX     RM   AGE     DIS  RAD    TAX  \\\n",
       "0  0.00632  18.0   2.31   0.0  0.538  6.575  65.2  4.0900  1.0  296.0   \n",
       "1  0.02731   0.0   7.07   0.0  0.469  6.421  78.9  4.9671  2.0  242.0   \n",
       "2  0.02729   0.0   7.07   0.0  0.469  7.185  61.1  4.9671  2.0  242.0   \n",
       "3  0.03237   0.0   2.18   0.0  0.458  6.998  45.8  6.0622  3.0  222.0   \n",
       "4  0.06905   0.0   2.18   0.0  0.458  7.147  54.2  6.0622  3.0  222.0   \n",
       "\n",
       "   PTRATIO       B  LSTAT  MEDV  \n",
       "0     15.3  396.90   4.98  24.0  \n",
       "1     17.8  396.90   9.14  21.6  \n",
       "2     17.8  392.83   4.03  34.7  \n",
       "3     18.7  394.63   2.94  33.4  \n",
       "4     18.7  396.90   5.33  36.2  "
      ]
     },
     "execution_count": 73,
     "metadata": {},
     "output_type": "execute_result"
    }
   ],
   "source": [
    "# Median value is a missing variable - the target variable - this needs to be added to the dataframe \n",
    "boston['MEDV'] = boston_dataset.target\n",
    "\n",
    "# Print first 5 rows\n",
    "boston.head()"
   ]
  },
  {
   "cell_type": "code",
   "execution_count": 74,
   "metadata": {},
   "outputs": [
    {
     "data": {
      "text/plain": [
       "CRIM       0\n",
       "ZN         0\n",
       "INDUS      0\n",
       "CHAS       0\n",
       "NOX        0\n",
       "RM         0\n",
       "AGE        0\n",
       "DIS        0\n",
       "RAD        0\n",
       "TAX        0\n",
       "PTRATIO    0\n",
       "B          0\n",
       "LSTAT      0\n",
       "MEDV       0\n",
       "dtype: int64"
      ]
     },
     "execution_count": 74,
     "metadata": {},
     "output_type": "execute_result"
    }
   ],
   "source": [
    "# check for any missing values in the dataset - a clean dataset is required for analysis\n",
    "boston.isnull().sum()"
   ]
  },
  {
   "cell_type": "markdown",
   "metadata": {},
   "source": [
    "There are no missing values in the boston dataset."
   ]
  },
  {
   "cell_type": "code",
   "execution_count": 75,
   "metadata": {},
   "outputs": [
    {
     "data": {
      "text/plain": [
       "CRIM       float64\n",
       "ZN         float64\n",
       "INDUS      float64\n",
       "CHAS       float64\n",
       "NOX        float64\n",
       "RM         float64\n",
       "AGE        float64\n",
       "DIS        float64\n",
       "RAD        float64\n",
       "TAX        float64\n",
       "PTRATIO    float64\n",
       "B          float64\n",
       "LSTAT      float64\n",
       "MEDV       float64\n",
       "dtype: object"
      ]
     },
     "execution_count": 75,
     "metadata": {},
     "output_type": "execute_result"
    }
   ],
   "source": [
    "# check the type of data of all the variables\n",
    "boston.dtypes"
   ]
  },
  {
   "cell_type": "markdown",
   "metadata": {},
   "source": [
    "All the variables are data type float."
   ]
  },
  {
   "cell_type": "code",
   "execution_count": 76,
   "metadata": {},
   "outputs": [
    {
     "data": {
      "text/html": [
       "<div>\n",
       "<style scoped>\n",
       "    .dataframe tbody tr th:only-of-type {\n",
       "        vertical-align: middle;\n",
       "    }\n",
       "\n",
       "    .dataframe tbody tr th {\n",
       "        vertical-align: top;\n",
       "    }\n",
       "\n",
       "    .dataframe thead th {\n",
       "        text-align: right;\n",
       "    }\n",
       "</style>\n",
       "<table border=\"1\" class=\"dataframe\">\n",
       "  <thead>\n",
       "    <tr style=\"text-align: right;\">\n",
       "      <th></th>\n",
       "      <th>crime_rate</th>\n",
       "      <th>large_zones</th>\n",
       "      <th>industrial</th>\n",
       "      <th>charles_river</th>\n",
       "      <th>nitric_oxide</th>\n",
       "      <th>rooms</th>\n",
       "      <th>old_houses</th>\n",
       "      <th>distance</th>\n",
       "      <th>highway_access</th>\n",
       "      <th>property_tax</th>\n",
       "      <th>pupil_teacher_ratio</th>\n",
       "      <th>proportion_blacks</th>\n",
       "      <th>lower_status</th>\n",
       "      <th>median_value</th>\n",
       "    </tr>\n",
       "  </thead>\n",
       "  <tbody>\n",
       "    <tr>\n",
       "      <td>0</td>\n",
       "      <td>0.00632</td>\n",
       "      <td>18.0</td>\n",
       "      <td>2.31</td>\n",
       "      <td>0.0</td>\n",
       "      <td>0.538</td>\n",
       "      <td>6.575</td>\n",
       "      <td>65.2</td>\n",
       "      <td>4.0900</td>\n",
       "      <td>1.0</td>\n",
       "      <td>296.0</td>\n",
       "      <td>15.3</td>\n",
       "      <td>396.90</td>\n",
       "      <td>4.98</td>\n",
       "      <td>24.0</td>\n",
       "    </tr>\n",
       "    <tr>\n",
       "      <td>1</td>\n",
       "      <td>0.02731</td>\n",
       "      <td>0.0</td>\n",
       "      <td>7.07</td>\n",
       "      <td>0.0</td>\n",
       "      <td>0.469</td>\n",
       "      <td>6.421</td>\n",
       "      <td>78.9</td>\n",
       "      <td>4.9671</td>\n",
       "      <td>2.0</td>\n",
       "      <td>242.0</td>\n",
       "      <td>17.8</td>\n",
       "      <td>396.90</td>\n",
       "      <td>9.14</td>\n",
       "      <td>21.6</td>\n",
       "    </tr>\n",
       "    <tr>\n",
       "      <td>2</td>\n",
       "      <td>0.02729</td>\n",
       "      <td>0.0</td>\n",
       "      <td>7.07</td>\n",
       "      <td>0.0</td>\n",
       "      <td>0.469</td>\n",
       "      <td>7.185</td>\n",
       "      <td>61.1</td>\n",
       "      <td>4.9671</td>\n",
       "      <td>2.0</td>\n",
       "      <td>242.0</td>\n",
       "      <td>17.8</td>\n",
       "      <td>392.83</td>\n",
       "      <td>4.03</td>\n",
       "      <td>34.7</td>\n",
       "    </tr>\n",
       "    <tr>\n",
       "      <td>3</td>\n",
       "      <td>0.03237</td>\n",
       "      <td>0.0</td>\n",
       "      <td>2.18</td>\n",
       "      <td>0.0</td>\n",
       "      <td>0.458</td>\n",
       "      <td>6.998</td>\n",
       "      <td>45.8</td>\n",
       "      <td>6.0622</td>\n",
       "      <td>3.0</td>\n",
       "      <td>222.0</td>\n",
       "      <td>18.7</td>\n",
       "      <td>394.63</td>\n",
       "      <td>2.94</td>\n",
       "      <td>33.4</td>\n",
       "    </tr>\n",
       "    <tr>\n",
       "      <td>4</td>\n",
       "      <td>0.06905</td>\n",
       "      <td>0.0</td>\n",
       "      <td>2.18</td>\n",
       "      <td>0.0</td>\n",
       "      <td>0.458</td>\n",
       "      <td>7.147</td>\n",
       "      <td>54.2</td>\n",
       "      <td>6.0622</td>\n",
       "      <td>3.0</td>\n",
       "      <td>222.0</td>\n",
       "      <td>18.7</td>\n",
       "      <td>396.90</td>\n",
       "      <td>5.33</td>\n",
       "      <td>36.2</td>\n",
       "    </tr>\n",
       "  </tbody>\n",
       "</table>\n",
       "</div>"
      ],
      "text/plain": [
       "   crime_rate  large_zones  industrial  charles_river  nitric_oxide  rooms  \\\n",
       "0     0.00632         18.0        2.31            0.0         0.538  6.575   \n",
       "1     0.02731          0.0        7.07            0.0         0.469  6.421   \n",
       "2     0.02729          0.0        7.07            0.0         0.469  7.185   \n",
       "3     0.03237          0.0        2.18            0.0         0.458  6.998   \n",
       "4     0.06905          0.0        2.18            0.0         0.458  7.147   \n",
       "\n",
       "   old_houses  distance  highway_access  property_tax  pupil_teacher_ratio  \\\n",
       "0        65.2    4.0900             1.0         296.0                 15.3   \n",
       "1        78.9    4.9671             2.0         242.0                 17.8   \n",
       "2        61.1    4.9671             2.0         242.0                 17.8   \n",
       "3        45.8    6.0622             3.0         222.0                 18.7   \n",
       "4        54.2    6.0622             3.0         222.0                 18.7   \n",
       "\n",
       "   proportion_blacks  lower_status  median_value  \n",
       "0             396.90          4.98          24.0  \n",
       "1             396.90          9.14          21.6  \n",
       "2             392.83          4.03          34.7  \n",
       "3             394.63          2.94          33.4  \n",
       "4             396.90          5.33          36.2  "
      ]
     },
     "execution_count": 76,
     "metadata": {},
     "output_type": "execute_result"
    }
   ],
   "source": [
    "# rename the variables to the full variable name to avoid confusion\n",
    "boston.columns = ['crime_rate', 'large_zones', 'industrial', 'charles_river', 'nitric_oxide', 'rooms', 'old_houses', 'distance', 'highway_access', 'property_tax', 'pupil_teacher_ratio', 'proportion_blacks', 'lower_status', 'median_value']\n",
    "\n",
    "# print first 5 rows\n",
    "boston.head()"
   ]
  },
  {
   "cell_type": "markdown",
   "metadata": {},
   "source": [
    "## Descriptive Statistics\n",
    "Now that the dataset has been loaded into a Panda's dataframe and the missing variable MEDV has been added, I will analyse the dataset to learn more about what it contains. The Panda's describe function produces the descriptive statistics on the dataset. The mean, standard deviation, maximum number, minimum number, 25% quartile range (median), 50% quartile range and 75% quartile range are produced for each of the 14 variables."
   ]
  },
  {
   "cell_type": "code",
   "execution_count": 77,
   "metadata": {},
   "outputs": [
    {
     "data": {
      "text/html": [
       "<div>\n",
       "<style scoped>\n",
       "    .dataframe tbody tr th:only-of-type {\n",
       "        vertical-align: middle;\n",
       "    }\n",
       "\n",
       "    .dataframe tbody tr th {\n",
       "        vertical-align: top;\n",
       "    }\n",
       "\n",
       "    .dataframe thead th {\n",
       "        text-align: right;\n",
       "    }\n",
       "</style>\n",
       "<table border=\"1\" class=\"dataframe\">\n",
       "  <thead>\n",
       "    <tr style=\"text-align: right;\">\n",
       "      <th></th>\n",
       "      <th>count</th>\n",
       "      <th>mean</th>\n",
       "      <th>std</th>\n",
       "      <th>min</th>\n",
       "      <th>25%</th>\n",
       "      <th>50%</th>\n",
       "      <th>75%</th>\n",
       "      <th>max</th>\n",
       "    </tr>\n",
       "  </thead>\n",
       "  <tbody>\n",
       "    <tr>\n",
       "      <td>crime_rate</td>\n",
       "      <td>506.0</td>\n",
       "      <td>3.613524</td>\n",
       "      <td>8.601545</td>\n",
       "      <td>0.00632</td>\n",
       "      <td>0.082045</td>\n",
       "      <td>0.25651</td>\n",
       "      <td>3.677083</td>\n",
       "      <td>88.9762</td>\n",
       "    </tr>\n",
       "    <tr>\n",
       "      <td>large_zones</td>\n",
       "      <td>506.0</td>\n",
       "      <td>11.363636</td>\n",
       "      <td>23.322453</td>\n",
       "      <td>0.00000</td>\n",
       "      <td>0.000000</td>\n",
       "      <td>0.00000</td>\n",
       "      <td>12.500000</td>\n",
       "      <td>100.0000</td>\n",
       "    </tr>\n",
       "    <tr>\n",
       "      <td>industrial</td>\n",
       "      <td>506.0</td>\n",
       "      <td>11.136779</td>\n",
       "      <td>6.860353</td>\n",
       "      <td>0.46000</td>\n",
       "      <td>5.190000</td>\n",
       "      <td>9.69000</td>\n",
       "      <td>18.100000</td>\n",
       "      <td>27.7400</td>\n",
       "    </tr>\n",
       "    <tr>\n",
       "      <td>charles_river</td>\n",
       "      <td>506.0</td>\n",
       "      <td>0.069170</td>\n",
       "      <td>0.253994</td>\n",
       "      <td>0.00000</td>\n",
       "      <td>0.000000</td>\n",
       "      <td>0.00000</td>\n",
       "      <td>0.000000</td>\n",
       "      <td>1.0000</td>\n",
       "    </tr>\n",
       "    <tr>\n",
       "      <td>nitric_oxide</td>\n",
       "      <td>506.0</td>\n",
       "      <td>0.554695</td>\n",
       "      <td>0.115878</td>\n",
       "      <td>0.38500</td>\n",
       "      <td>0.449000</td>\n",
       "      <td>0.53800</td>\n",
       "      <td>0.624000</td>\n",
       "      <td>0.8710</td>\n",
       "    </tr>\n",
       "    <tr>\n",
       "      <td>rooms</td>\n",
       "      <td>506.0</td>\n",
       "      <td>6.284634</td>\n",
       "      <td>0.702617</td>\n",
       "      <td>3.56100</td>\n",
       "      <td>5.885500</td>\n",
       "      <td>6.20850</td>\n",
       "      <td>6.623500</td>\n",
       "      <td>8.7800</td>\n",
       "    </tr>\n",
       "    <tr>\n",
       "      <td>old_houses</td>\n",
       "      <td>506.0</td>\n",
       "      <td>68.574901</td>\n",
       "      <td>28.148861</td>\n",
       "      <td>2.90000</td>\n",
       "      <td>45.025000</td>\n",
       "      <td>77.50000</td>\n",
       "      <td>94.075000</td>\n",
       "      <td>100.0000</td>\n",
       "    </tr>\n",
       "    <tr>\n",
       "      <td>distance</td>\n",
       "      <td>506.0</td>\n",
       "      <td>3.795043</td>\n",
       "      <td>2.105710</td>\n",
       "      <td>1.12960</td>\n",
       "      <td>2.100175</td>\n",
       "      <td>3.20745</td>\n",
       "      <td>5.188425</td>\n",
       "      <td>12.1265</td>\n",
       "    </tr>\n",
       "    <tr>\n",
       "      <td>highway_access</td>\n",
       "      <td>506.0</td>\n",
       "      <td>9.549407</td>\n",
       "      <td>8.707259</td>\n",
       "      <td>1.00000</td>\n",
       "      <td>4.000000</td>\n",
       "      <td>5.00000</td>\n",
       "      <td>24.000000</td>\n",
       "      <td>24.0000</td>\n",
       "    </tr>\n",
       "    <tr>\n",
       "      <td>property_tax</td>\n",
       "      <td>506.0</td>\n",
       "      <td>408.237154</td>\n",
       "      <td>168.537116</td>\n",
       "      <td>187.00000</td>\n",
       "      <td>279.000000</td>\n",
       "      <td>330.00000</td>\n",
       "      <td>666.000000</td>\n",
       "      <td>711.0000</td>\n",
       "    </tr>\n",
       "    <tr>\n",
       "      <td>pupil_teacher_ratio</td>\n",
       "      <td>506.0</td>\n",
       "      <td>18.455534</td>\n",
       "      <td>2.164946</td>\n",
       "      <td>12.60000</td>\n",
       "      <td>17.400000</td>\n",
       "      <td>19.05000</td>\n",
       "      <td>20.200000</td>\n",
       "      <td>22.0000</td>\n",
       "    </tr>\n",
       "    <tr>\n",
       "      <td>proportion_blacks</td>\n",
       "      <td>506.0</td>\n",
       "      <td>356.674032</td>\n",
       "      <td>91.294864</td>\n",
       "      <td>0.32000</td>\n",
       "      <td>375.377500</td>\n",
       "      <td>391.44000</td>\n",
       "      <td>396.225000</td>\n",
       "      <td>396.9000</td>\n",
       "    </tr>\n",
       "    <tr>\n",
       "      <td>lower_status</td>\n",
       "      <td>506.0</td>\n",
       "      <td>12.653063</td>\n",
       "      <td>7.141062</td>\n",
       "      <td>1.73000</td>\n",
       "      <td>6.950000</td>\n",
       "      <td>11.36000</td>\n",
       "      <td>16.955000</td>\n",
       "      <td>37.9700</td>\n",
       "    </tr>\n",
       "    <tr>\n",
       "      <td>median_value</td>\n",
       "      <td>506.0</td>\n",
       "      <td>22.532806</td>\n",
       "      <td>9.197104</td>\n",
       "      <td>5.00000</td>\n",
       "      <td>17.025000</td>\n",
       "      <td>21.20000</td>\n",
       "      <td>25.000000</td>\n",
       "      <td>50.0000</td>\n",
       "    </tr>\n",
       "  </tbody>\n",
       "</table>\n",
       "</div>"
      ],
      "text/plain": [
       "                     count        mean         std        min         25%  \\\n",
       "crime_rate           506.0    3.613524    8.601545    0.00632    0.082045   \n",
       "large_zones          506.0   11.363636   23.322453    0.00000    0.000000   \n",
       "industrial           506.0   11.136779    6.860353    0.46000    5.190000   \n",
       "charles_river        506.0    0.069170    0.253994    0.00000    0.000000   \n",
       "nitric_oxide         506.0    0.554695    0.115878    0.38500    0.449000   \n",
       "rooms                506.0    6.284634    0.702617    3.56100    5.885500   \n",
       "old_houses           506.0   68.574901   28.148861    2.90000   45.025000   \n",
       "distance             506.0    3.795043    2.105710    1.12960    2.100175   \n",
       "highway_access       506.0    9.549407    8.707259    1.00000    4.000000   \n",
       "property_tax         506.0  408.237154  168.537116  187.00000  279.000000   \n",
       "pupil_teacher_ratio  506.0   18.455534    2.164946   12.60000   17.400000   \n",
       "proportion_blacks    506.0  356.674032   91.294864    0.32000  375.377500   \n",
       "lower_status         506.0   12.653063    7.141062    1.73000    6.950000   \n",
       "median_value         506.0   22.532806    9.197104    5.00000   17.025000   \n",
       "\n",
       "                           50%         75%       max  \n",
       "crime_rate             0.25651    3.677083   88.9762  \n",
       "large_zones            0.00000   12.500000  100.0000  \n",
       "industrial             9.69000   18.100000   27.7400  \n",
       "charles_river          0.00000    0.000000    1.0000  \n",
       "nitric_oxide           0.53800    0.624000    0.8710  \n",
       "rooms                  6.20850    6.623500    8.7800  \n",
       "old_houses            77.50000   94.075000  100.0000  \n",
       "distance               3.20745    5.188425   12.1265  \n",
       "highway_access         5.00000   24.000000   24.0000  \n",
       "property_tax         330.00000  666.000000  711.0000  \n",
       "pupil_teacher_ratio   19.05000   20.200000   22.0000  \n",
       "proportion_blacks    391.44000  396.225000  396.9000  \n",
       "lower_status          11.36000   16.955000   37.9700  \n",
       "median_value          21.20000   25.000000   50.0000  "
      ]
     },
     "execution_count": 77,
     "metadata": {},
     "output_type": "execute_result"
    }
   ],
   "source": [
    "# descriptive statistics are obtained using the describe function. Adding the .T swaps the rows and columns.\n",
    "boston.describe().T"
   ]
  },
  {
   "cell_type": "markdown",
   "metadata": {},
   "source": [
    "It is difficult to obtain a clear picture of the dataset using the basic raw descriptive statistics - it is not very informative in this state. Visualisation tools provide a much better way to analyse the dataset and will give a better understanding of the data."
   ]
  },
  {
   "cell_type": "markdown",
   "metadata": {},
   "source": [
    "## Visualisations\n",
    "The raw descriptive statistics gave all the relevant information on each of the variables in the dataset, however using visual tools such as histograms, boxplots and scatterplots make it easier to visualise the distribution of each of the 14 variables.\n",
    "\n",
    "Using the Seaborn library I will plot the distribution of the target variable 'median_value' using the histogram and boxplot functions. This target variable is the median-value of houses within a given suburb in $1'000's. \n",
    "\n",
    "I will then use the pairplot function in seaborn to visualise the distribution of data for crime_rate, rooms, pupil_teacher_ratio and lower_status."
   ]
  },
  {
   "cell_type": "code",
   "execution_count": 78,
   "metadata": {},
   "outputs": [
    {
     "data": {
      "image/png": "[encoded data removed]",
      "text/plain": [
       "<Figure size 1440x720 with 1 Axes>"
      ]
     },
     "metadata": {
      "needs_background": "light"
     },
     "output_type": "display_data"
    }
   ],
   "source": [
    "# create a histogram on the 'median_value'\n",
    "plt.hist(boston['median_value'])\n",
    "\n",
    "# set the name of the x-axis\n",
    "plt.xlabel(\"median_value\")\n",
    "\n",
    "# set the name of the y-axis\n",
    "plt.ylabel(\"Frequency\")\n",
    "\n",
    "# plot the histogram\n",
    "plt.show()"
   ]
  },
  {
   "cell_type": "code",
   "execution_count": 79,
   "metadata": {},
   "outputs": [
    {
     "data": {
      "text/plain": [
       "<matplotlib.axes._subplots.AxesSubplot at 0x2824298a948>"
      ]
     },
     "execution_count": 79,
     "metadata": {},
     "output_type": "execute_result"
    },
    {
     "data": {
      "image/png": "[encoded data removed]",
      "text/plain": [
       "<Figure size 576x216 with 1 Axes>"
      ]
     },
     "metadata": {
      "needs_background": "light"
     },
     "output_type": "display_data"
    }
   ],
   "source": [
    "# create a boxplot on variable 'median_value'\n",
    "plt.figure(figsize=(8,3))\n",
    "sns.boxplot(boston['median_value'])"
   ]
  },
  {
   "cell_type": "code",
   "execution_count": 80,
   "metadata": {},
   "outputs": [
    {
     "data": {
      "image/png": "[encoded data removed]",
      "text/plain": [
       "<Figure size 720x720 with 20 Axes>"
      ]
     },
     "metadata": {
      "needs_background": "light"
     },
     "output_type": "display_data"
    }
   ],
   "source": [
    "# create a variable called cols with list of variables\n",
    "cols = ['rooms', 'crime_rate', 'lower_status', 'pupil_teacher_ratio']\n",
    "\n",
    "# create pairplots on the list of variables in cols\n",
    "sns.pairplot(boston[cols],\n",
    "plot_kws={'alpha': 0.6},\n",
    "diag_kws={'bins': 30})\n",
    "\n",
    "# plot the pairplots\n",
    "plt.show()"
   ]
  },
  {
   "cell_type": "markdown",
   "metadata": {},
   "source": [
    "## Overview of Visualisation\n",
    "Looking at the distribution on the histogram for the median_value it shows a distribution that is skewed right with several outliers. This means it is not normally distributed around the mean, but distributed slightly below the mean. The values are centred around 22,000, the minimum value is 5,000 and the maximum value is 50,000.The boxplot shows a symmetric distribution with one outlier to the left and several to the right.The range of the distribution is 45,000.\n",
    "\n",
    "From the pairplots it can be seen that lower_status and crime_rate are skewed right and rooms has the closest shape to a normal distribution."
   ]
  },
  {
   "cell_type": "markdown",
   "metadata": {},
   "source": [
    "## Correlation\n",
    "Finding the correlation between variables is a useful way to check for patterns in the dataset. To find the correlation between variables the Pandas .corr() function can be used. The output of the correlation function will fall within the range -1 to +1. 1 indicates variables are positively correlated, -1 indicates variables are negatively correlated and 0 indicates variables are not correlated. The Pearson correlation coefficient measures the linear relationship between two datasets and requires that each dataset should be normally distributed. The Spearman correlation coefficient is based on the ranked values for each variable rather than the raw data and does not require variables to be normally distributed. \n",
    "\n",
    "From the visualisations above it can be seen that the variables are non-normal, I will therefore use the Spearman rank correlation coefficien as this will ensure that any relationships between variables are viable. I am only interested in  relationships with the target variable with a value higher than 0.6."
   ]
  },
  {
   "cell_type": "code",
   "execution_count": 81,
   "metadata": {},
   "outputs": [
    {
     "data": {
      "text/html": [
       "<div>\n",
       "<style scoped>\n",
       "    .dataframe tbody tr th:only-of-type {\n",
       "        vertical-align: middle;\n",
       "    }\n",
       "\n",
       "    .dataframe tbody tr th {\n",
       "        vertical-align: top;\n",
       "    }\n",
       "\n",
       "    .dataframe thead th {\n",
       "        text-align: right;\n",
       "    }\n",
       "</style>\n",
       "<table border=\"1\" class=\"dataframe\">\n",
       "  <thead>\n",
       "    <tr style=\"text-align: right;\">\n",
       "      <th></th>\n",
       "      <th>crime_rate</th>\n",
       "      <th>large_zones</th>\n",
       "      <th>industrial</th>\n",
       "      <th>charles_river</th>\n",
       "      <th>nitric_oxide</th>\n",
       "      <th>rooms</th>\n",
       "      <th>old_houses</th>\n",
       "      <th>distance</th>\n",
       "      <th>highway_access</th>\n",
       "      <th>property_tax</th>\n",
       "      <th>pupil_teacher_ratio</th>\n",
       "      <th>proportion_blacks</th>\n",
       "      <th>lower_status</th>\n",
       "      <th>median_value</th>\n",
       "    </tr>\n",
       "  </thead>\n",
       "  <tbody>\n",
       "    <tr>\n",
       "      <td>crime_rate</td>\n",
       "      <td>1.000000</td>\n",
       "      <td>-0.571660</td>\n",
       "      <td>0.735524</td>\n",
       "      <td>0.041537</td>\n",
       "      <td>0.821465</td>\n",
       "      <td>-0.309116</td>\n",
       "      <td>0.704140</td>\n",
       "      <td>-0.744986</td>\n",
       "      <td>0.727807</td>\n",
       "      <td>0.729045</td>\n",
       "      <td>0.465283</td>\n",
       "      <td>-0.360555</td>\n",
       "      <td>0.634760</td>\n",
       "      <td>-0.558891</td>\n",
       "    </tr>\n",
       "    <tr>\n",
       "      <td>large_zones</td>\n",
       "      <td>-0.571660</td>\n",
       "      <td>1.000000</td>\n",
       "      <td>-0.642811</td>\n",
       "      <td>-0.041937</td>\n",
       "      <td>-0.634828</td>\n",
       "      <td>0.361074</td>\n",
       "      <td>-0.544423</td>\n",
       "      <td>0.614627</td>\n",
       "      <td>-0.278767</td>\n",
       "      <td>-0.371394</td>\n",
       "      <td>-0.448475</td>\n",
       "      <td>0.163135</td>\n",
       "      <td>-0.490074</td>\n",
       "      <td>0.438179</td>\n",
       "    </tr>\n",
       "    <tr>\n",
       "      <td>industrial</td>\n",
       "      <td>0.735524</td>\n",
       "      <td>-0.642811</td>\n",
       "      <td>1.000000</td>\n",
       "      <td>0.089841</td>\n",
       "      <td>0.791189</td>\n",
       "      <td>-0.415301</td>\n",
       "      <td>0.679487</td>\n",
       "      <td>-0.757080</td>\n",
       "      <td>0.455507</td>\n",
       "      <td>0.664361</td>\n",
       "      <td>0.433710</td>\n",
       "      <td>-0.285840</td>\n",
       "      <td>0.638747</td>\n",
       "      <td>-0.578255</td>\n",
       "    </tr>\n",
       "    <tr>\n",
       "      <td>charles_river</td>\n",
       "      <td>0.041537</td>\n",
       "      <td>-0.041937</td>\n",
       "      <td>0.089841</td>\n",
       "      <td>1.000000</td>\n",
       "      <td>0.068426</td>\n",
       "      <td>0.058813</td>\n",
       "      <td>0.067792</td>\n",
       "      <td>-0.080248</td>\n",
       "      <td>0.024579</td>\n",
       "      <td>-0.044486</td>\n",
       "      <td>-0.136065</td>\n",
       "      <td>-0.039810</td>\n",
       "      <td>-0.050575</td>\n",
       "      <td>0.140612</td>\n",
       "    </tr>\n",
       "    <tr>\n",
       "      <td>nitric_oxide</td>\n",
       "      <td>0.821465</td>\n",
       "      <td>-0.634828</td>\n",
       "      <td>0.791189</td>\n",
       "      <td>0.068426</td>\n",
       "      <td>1.000000</td>\n",
       "      <td>-0.310344</td>\n",
       "      <td>0.795153</td>\n",
       "      <td>-0.880015</td>\n",
       "      <td>0.586429</td>\n",
       "      <td>0.649527</td>\n",
       "      <td>0.391309</td>\n",
       "      <td>-0.296662</td>\n",
       "      <td>0.636828</td>\n",
       "      <td>-0.562609</td>\n",
       "    </tr>\n",
       "    <tr>\n",
       "      <td>rooms</td>\n",
       "      <td>-0.309116</td>\n",
       "      <td>0.361074</td>\n",
       "      <td>-0.415301</td>\n",
       "      <td>0.058813</td>\n",
       "      <td>-0.310344</td>\n",
       "      <td>1.000000</td>\n",
       "      <td>-0.278082</td>\n",
       "      <td>0.263168</td>\n",
       "      <td>-0.107492</td>\n",
       "      <td>-0.271898</td>\n",
       "      <td>-0.312923</td>\n",
       "      <td>0.053660</td>\n",
       "      <td>-0.640832</td>\n",
       "      <td>0.633576</td>\n",
       "    </tr>\n",
       "    <tr>\n",
       "      <td>old_houses</td>\n",
       "      <td>0.704140</td>\n",
       "      <td>-0.544423</td>\n",
       "      <td>0.679487</td>\n",
       "      <td>0.067792</td>\n",
       "      <td>0.795153</td>\n",
       "      <td>-0.278082</td>\n",
       "      <td>1.000000</td>\n",
       "      <td>-0.801610</td>\n",
       "      <td>0.417983</td>\n",
       "      <td>0.526366</td>\n",
       "      <td>0.355384</td>\n",
       "      <td>-0.228022</td>\n",
       "      <td>0.657071</td>\n",
       "      <td>-0.547562</td>\n",
       "    </tr>\n",
       "    <tr>\n",
       "      <td>distance</td>\n",
       "      <td>-0.744986</td>\n",
       "      <td>0.614627</td>\n",
       "      <td>-0.757080</td>\n",
       "      <td>-0.080248</td>\n",
       "      <td>-0.880015</td>\n",
       "      <td>0.263168</td>\n",
       "      <td>-0.801610</td>\n",
       "      <td>1.000000</td>\n",
       "      <td>-0.495806</td>\n",
       "      <td>-0.574336</td>\n",
       "      <td>-0.322041</td>\n",
       "      <td>0.249595</td>\n",
       "      <td>-0.564262</td>\n",
       "      <td>0.445857</td>\n",
       "    </tr>\n",
       "    <tr>\n",
       "      <td>highway_access</td>\n",
       "      <td>0.727807</td>\n",
       "      <td>-0.278767</td>\n",
       "      <td>0.455507</td>\n",
       "      <td>0.024579</td>\n",
       "      <td>0.586429</td>\n",
       "      <td>-0.107492</td>\n",
       "      <td>0.417983</td>\n",
       "      <td>-0.495806</td>\n",
       "      <td>1.000000</td>\n",
       "      <td>0.704876</td>\n",
       "      <td>0.318330</td>\n",
       "      <td>-0.282533</td>\n",
       "      <td>0.394322</td>\n",
       "      <td>-0.346776</td>\n",
       "    </tr>\n",
       "    <tr>\n",
       "      <td>property_tax</td>\n",
       "      <td>0.729045</td>\n",
       "      <td>-0.371394</td>\n",
       "      <td>0.664361</td>\n",
       "      <td>-0.044486</td>\n",
       "      <td>0.649527</td>\n",
       "      <td>-0.271898</td>\n",
       "      <td>0.526366</td>\n",
       "      <td>-0.574336</td>\n",
       "      <td>0.704876</td>\n",
       "      <td>1.000000</td>\n",
       "      <td>0.453345</td>\n",
       "      <td>-0.329843</td>\n",
       "      <td>0.534423</td>\n",
       "      <td>-0.562411</td>\n",
       "    </tr>\n",
       "    <tr>\n",
       "      <td>pupil_teacher_ratio</td>\n",
       "      <td>0.465283</td>\n",
       "      <td>-0.448475</td>\n",
       "      <td>0.433710</td>\n",
       "      <td>-0.136065</td>\n",
       "      <td>0.391309</td>\n",
       "      <td>-0.312923</td>\n",
       "      <td>0.355384</td>\n",
       "      <td>-0.322041</td>\n",
       "      <td>0.318330</td>\n",
       "      <td>0.453345</td>\n",
       "      <td>1.000000</td>\n",
       "      <td>-0.072027</td>\n",
       "      <td>0.467259</td>\n",
       "      <td>-0.555905</td>\n",
       "    </tr>\n",
       "    <tr>\n",
       "      <td>proportion_blacks</td>\n",
       "      <td>-0.360555</td>\n",
       "      <td>0.163135</td>\n",
       "      <td>-0.285840</td>\n",
       "      <td>-0.039810</td>\n",
       "      <td>-0.296662</td>\n",
       "      <td>0.053660</td>\n",
       "      <td>-0.228022</td>\n",
       "      <td>0.249595</td>\n",
       "      <td>-0.282533</td>\n",
       "      <td>-0.329843</td>\n",
       "      <td>-0.072027</td>\n",
       "      <td>1.000000</td>\n",
       "      <td>-0.210562</td>\n",
       "      <td>0.185664</td>\n",
       "    </tr>\n",
       "    <tr>\n",
       "      <td>lower_status</td>\n",
       "      <td>0.634760</td>\n",
       "      <td>-0.490074</td>\n",
       "      <td>0.638747</td>\n",
       "      <td>-0.050575</td>\n",
       "      <td>0.636828</td>\n",
       "      <td>-0.640832</td>\n",
       "      <td>0.657071</td>\n",
       "      <td>-0.564262</td>\n",
       "      <td>0.394322</td>\n",
       "      <td>0.534423</td>\n",
       "      <td>0.467259</td>\n",
       "      <td>-0.210562</td>\n",
       "      <td>1.000000</td>\n",
       "      <td>-0.852914</td>\n",
       "    </tr>\n",
       "    <tr>\n",
       "      <td>median_value</td>\n",
       "      <td>-0.558891</td>\n",
       "      <td>0.438179</td>\n",
       "      <td>-0.578255</td>\n",
       "      <td>0.140612</td>\n",
       "      <td>-0.562609</td>\n",
       "      <td>0.633576</td>\n",
       "      <td>-0.547562</td>\n",
       "      <td>0.445857</td>\n",
       "      <td>-0.346776</td>\n",
       "      <td>-0.562411</td>\n",
       "      <td>-0.555905</td>\n",
       "      <td>0.185664</td>\n",
       "      <td>-0.852914</td>\n",
       "      <td>1.000000</td>\n",
       "    </tr>\n",
       "  </tbody>\n",
       "</table>\n",
       "</div>"
      ],
      "text/plain": [
       "                     crime_rate  large_zones  industrial  charles_river  \\\n",
       "crime_rate             1.000000    -0.571660    0.735524       0.041537   \n",
       "large_zones           -0.571660     1.000000   -0.642811      -0.041937   \n",
       "industrial             0.735524    -0.642811    1.000000       0.089841   \n",
       "charles_river          0.041537    -0.041937    0.089841       1.000000   \n",
       "nitric_oxide           0.821465    -0.634828    0.791189       0.068426   \n",
       "rooms                 -0.309116     0.361074   -0.415301       0.058813   \n",
       "old_houses             0.704140    -0.544423    0.679487       0.067792   \n",
       "distance              -0.744986     0.614627   -0.757080      -0.080248   \n",
       "highway_access         0.727807    -0.278767    0.455507       0.024579   \n",
       "property_tax           0.729045    -0.371394    0.664361      -0.044486   \n",
       "pupil_teacher_ratio    0.465283    -0.448475    0.433710      -0.136065   \n",
       "proportion_blacks     -0.360555     0.163135   -0.285840      -0.039810   \n",
       "lower_status           0.634760    -0.490074    0.638747      -0.050575   \n",
       "median_value          -0.558891     0.438179   -0.578255       0.140612   \n",
       "\n",
       "                     nitric_oxide     rooms  old_houses  distance  \\\n",
       "crime_rate               0.821465 -0.309116    0.704140 -0.744986   \n",
       "large_zones             -0.634828  0.361074   -0.544423  0.614627   \n",
       "industrial               0.791189 -0.415301    0.679487 -0.757080   \n",
       "charles_river            0.068426  0.058813    0.067792 -0.080248   \n",
       "nitric_oxide             1.000000 -0.310344    0.795153 -0.880015   \n",
       "rooms                   -0.310344  1.000000   -0.278082  0.263168   \n",
       "old_houses               0.795153 -0.278082    1.000000 -0.801610   \n",
       "distance                -0.880015  0.263168   -0.801610  1.000000   \n",
       "highway_access           0.586429 -0.107492    0.417983 -0.495806   \n",
       "property_tax             0.649527 -0.271898    0.526366 -0.574336   \n",
       "pupil_teacher_ratio      0.391309 -0.312923    0.355384 -0.322041   \n",
       "proportion_blacks       -0.296662  0.053660   -0.228022  0.249595   \n",
       "lower_status             0.636828 -0.640832    0.657071 -0.564262   \n",
       "median_value            -0.562609  0.633576   -0.547562  0.445857   \n",
       "\n",
       "                     highway_access  property_tax  pupil_teacher_ratio  \\\n",
       "crime_rate                 0.727807      0.729045             0.465283   \n",
       "large_zones               -0.278767     -0.371394            -0.448475   \n",
       "industrial                 0.455507      0.664361             0.433710   \n",
       "charles_river              0.024579     -0.044486            -0.136065   \n",
       "nitric_oxide               0.586429      0.649527             0.391309   \n",
       "rooms                     -0.107492     -0.271898            -0.312923   \n",
       "old_houses                 0.417983      0.526366             0.355384   \n",
       "distance                  -0.495806     -0.574336            -0.322041   \n",
       "highway_access             1.000000      0.704876             0.318330   \n",
       "property_tax               0.704876      1.000000             0.453345   \n",
       "pupil_teacher_ratio        0.318330      0.453345             1.000000   \n",
       "proportion_blacks         -0.282533     -0.329843            -0.072027   \n",
       "lower_status               0.394322      0.534423             0.467259   \n",
       "median_value              -0.346776     -0.562411            -0.555905   \n",
       "\n",
       "                     proportion_blacks  lower_status  median_value  \n",
       "crime_rate                   -0.360555      0.634760     -0.558891  \n",
       "large_zones                   0.163135     -0.490074      0.438179  \n",
       "industrial                   -0.285840      0.638747     -0.578255  \n",
       "charles_river                -0.039810     -0.050575      0.140612  \n",
       "nitric_oxide                 -0.296662      0.636828     -0.562609  \n",
       "rooms                         0.053660     -0.640832      0.633576  \n",
       "old_houses                   -0.228022      0.657071     -0.547562  \n",
       "distance                      0.249595     -0.564262      0.445857  \n",
       "highway_access               -0.282533      0.394322     -0.346776  \n",
       "property_tax                 -0.329843      0.534423     -0.562411  \n",
       "pupil_teacher_ratio          -0.072027      0.467259     -0.555905  \n",
       "proportion_blacks             1.000000     -0.210562      0.185664  \n",
       "lower_status                 -0.210562      1.000000     -0.852914  \n",
       "median_value                  0.185664     -0.852914      1.000000  "
      ]
     },
     "execution_count": 81,
     "metadata": {},
     "output_type": "execute_result"
    }
   ],
   "source": [
    "# run the Panda's corr function on the boston dataframe - method Pearson\n",
    "boston.corr(method='spearman')"
   ]
  },
  {
   "cell_type": "code",
   "execution_count": 82,
   "metadata": {},
   "outputs": [
    {
     "data": {
      "text/plain": [
       "<matplotlib.axes._subplots.AxesSubplot at 0x28245cb8ec8>"
      ]
     },
     "execution_count": 82,
     "metadata": {},
     "output_type": "execute_result"
    },
    {
     "data": {
      "image/png": "[encoded data removed]",
      "text/plain": [
       "<Figure size 864x864 with 2 Axes>"
      ]
     },
     "metadata": {
      "needs_background": "light"
     },
     "output_type": "display_data"
    }
   ],
   "source": [
    "# set the size of the plot\n",
    "plt.figure(figsize=(12,12))\n",
    "\n",
    "# assign a variable cor\n",
    "cor = boston.corr(method='spearman')\n",
    "\n",
    "# create a heatmap in seaborn of the coefficients\n",
    "sns.heatmap(cor, annot=True, cmap=plt.cm.Blues)"
   ]
  },
  {
   "cell_type": "code",
   "execution_count": 137,
   "metadata": {},
   "outputs": [
    {
     "data": {
      "text/plain": [
       "rooms           0.633576\n",
       "lower_status    0.852914\n",
       "median_value    1.000000\n",
       "Name: median_value, dtype: float64"
      ]
     },
     "execution_count": 137,
     "metadata": {},
     "output_type": "execute_result"
    }
   ],
   "source": [
    "# Correlation with target variable\n",
    "cor_target = abs(cor[\"median_value\"])\n",
    "\n",
    "# Selecting highly correlated features\n",
    "relevant_features = cor_target[cor_target>0.6]\n",
    "\n",
    "# print the relevant_features\n",
    "relevant_features"
   ]
  },
  {
   "cell_type": "markdown",
   "metadata": {},
   "source": [
    "Rooms and lower_status are the two variables that have a correlation score of greater than 0.6 with median_value. I will plot these relationships on a scatter plots."
   ]
  },
  {
   "cell_type": "code",
   "execution_count": 84,
   "metadata": {},
   "outputs": [
    {
     "data": {
      "image/png": "[encoded data removed]",
      "text/plain": [
       "<Figure size 1440x360 with 2 Axes>"
      ]
     },
     "metadata": {
      "needs_background": "light"
     },
     "output_type": "display_data"
    }
   ],
   "source": [
    "# set plot size\n",
    "plt.figure(figsize=(20, 5))\n",
    "\n",
    "# assign variables \n",
    "features = ['lower_status', 'rooms']\n",
    "target = boston['median_value']\n",
    "\n",
    "# plot each feature with target variable\n",
    "for i, col in enumerate(features):\n",
    "    plt.subplot(1, len(features) , i+1)\n",
    "    x = boston[col]\n",
    "    y = target\n",
    "    plt.scatter(x, y, marker='o')\n",
    "    plt.title(col)\n",
    "    plt.xlabel(col)\n",
    "    plt.ylabel('median_value')"
   ]
  },
  {
   "cell_type": "markdown",
   "metadata": {},
   "source": [
    "## Overview of Correlation\n",
    "Rooms and lower_status are highly correlated to the target variable median_value with values over 0.6.\n",
    "\n",
    "The correlation matrix shows that rooms (average number of rooms per dwelling) has a strong positive correlation with the median_value (0.63), whereas lower_status (% lower status of the population) has a high negative correlation with median_value (-0.85). This seems feasible as dwellings with more rooms are likely to be higher in value and areas where there is a lower status are likely to be lower in value. \n",
    "\n",
    "The scatter plots visually show the relationships with the target variable and the high correlation whether negative or positive."
   ]
  },
  {
   "cell_type": "markdown",
   "metadata": {},
   "source": [
    "## Theory of Linear Regression\n",
    "\n",
    "Regression looks at relationships between variables. It can be used to determine to what extent one variable influences another variable or it can be used to make predictions. Linear regression can Simple or Multiple linear regression - in this case it will be multiple as there are two independent variables.\n",
    "\n",
    "Use SciKit Learn to carry out multiple linear regression.\n",
    "\n",
    "NOTE - ADD MORE ABOUT LINEAR REGRESSION\n",
    "\n",
    "The analysis that I have carried out shows that there is a strong relationship between rooms and median_value and lower_status and median_value - the rooms and lower_status are the independent features and the median_value is the feature that depends on them.\n",
    "\n",
    "In regression the independent features (rooms and lower_status) will be denoted by 'x' and the median_value by 'y'. \n",
    "\n",
    "The steps involved for implementing multiple linear regression are:\n",
    "\n",
    " - Gather the data\n",
    " - Create a regression model and fit with the data\n",
    " - Check the model for accuracy\n",
    " - Use the model to make predictions"
   ]
  },
  {
   "cell_type": "markdown",
   "metadata": {},
   "source": [
    "## Multiple Linear Regression Model - Model 1"
   ]
  },
  {
   "cell_type": "code",
   "execution_count": 97,
   "metadata": {
    "scrolled": true
   },
   "outputs": [
    {
     "data": {
      "text/plain": [
       "LinearRegression(copy_X=True, fit_intercept=True, n_jobs=None, normalize=False)"
      ]
     },
     "execution_count": 97,
     "metadata": {},
     "output_type": "execute_result"
    }
   ],
   "source": [
    "# import linear_model from sklearn.\n",
    "import sklearn.linear_model as lm\n",
    "import pandas as pd\n",
    "\n",
    "# Create a linear regression model instance\n",
    "m = lm.LinearRegression()\n",
    "\n",
    "boston.columns\n",
    "\n",
    "# we want to do linear regression on these input variables to predict median_value\n",
    "x = boston[['rooms','lower_status']]\n",
    "\n",
    "# median_value is set as the dependent variable y\n",
    "y = boston['median_value']\n",
    "\n",
    "# Ask model to fit the data - take the x array and fit it to the y value\n",
    "m.fit(x, y)"
   ]
  },
  {
   "cell_type": "code",
   "execution_count": 122,
   "metadata": {},
   "outputs": [
    {
     "data": {
      "text/plain": [
       "8.630333170519798"
      ]
     },
     "execution_count": 122,
     "metadata": {},
     "output_type": "execute_result"
    }
   ],
   "source": [
    "# calculate the y intercept\n",
    "m.intercept_"
   ]
  },
  {
   "cell_type": "code",
   "execution_count": 93,
   "metadata": {},
   "outputs": [
    {
     "data": {
      "text/plain": [
       "array([ 5.09478798, -0.64235833])"
      ]
     },
     "execution_count": 93,
     "metadata": {},
     "output_type": "execute_result"
    }
   ],
   "source": [
    "# calculate the two coefficients\n",
    "m.coef_"
   ]
  },
  {
   "cell_type": "markdown",
   "metadata": {},
   "source": [
    "The intercept is approximately -1.36, and this is the value of the predicted response when 𝑥₁ = 𝑥₂ = 0. The increase of 𝑥₁ by 1 yields the rise of the predicted response by 5.09. Similarly, when 𝑥₂ grows by 1, the response rises by -0.64."
   ]
  },
  {
   "cell_type": "code",
   "execution_count": 94,
   "metadata": {},
   "outputs": [
    {
     "data": {
      "text/plain": [
       "0.6385616062603403"
      ]
     },
     "execution_count": 94,
     "metadata": {},
     "output_type": "execute_result"
    }
   ],
   "source": [
    "# See how good the fit is by scoring it - the best possible score is 1.0\n",
    "m.score(x, y)"
   ]
  },
  {
   "cell_type": "code",
   "execution_count": 120,
   "metadata": {
    "scrolled": true
   },
   "outputs": [],
   "source": [
    "# print the median_value predictions\n",
    "y_pred = m.predict(x)\n",
    "#print(y, y_pred)"
   ]
  },
  {
   "cell_type": "code",
   "execution_count": 121,
   "metadata": {},
   "outputs": [
    {
     "data": {
      "text/html": [
       "<div>\n",
       "<style scoped>\n",
       "    .dataframe tbody tr th:only-of-type {\n",
       "        vertical-align: middle;\n",
       "    }\n",
       "\n",
       "    .dataframe tbody tr th {\n",
       "        vertical-align: top;\n",
       "    }\n",
       "\n",
       "    .dataframe thead th {\n",
       "        text-align: right;\n",
       "    }\n",
       "</style>\n",
       "<table border=\"1\" class=\"dataframe\">\n",
       "  <thead>\n",
       "    <tr style=\"text-align: right;\">\n",
       "      <th></th>\n",
       "      <th>Actual</th>\n",
       "      <th>Predicted</th>\n",
       "    </tr>\n",
       "  </thead>\n",
       "  <tbody>\n",
       "    <tr>\n",
       "      <td>0</td>\n",
       "      <td>24.0</td>\n",
       "      <td>30.408716</td>\n",
       "    </tr>\n",
       "    <tr>\n",
       "      <td>1</td>\n",
       "      <td>21.6</td>\n",
       "      <td>26.113493</td>\n",
       "    </tr>\n",
       "    <tr>\n",
       "      <td>2</td>\n",
       "      <td>34.7</td>\n",
       "      <td>32.925006</td>\n",
       "    </tr>\n",
       "    <tr>\n",
       "      <td>3</td>\n",
       "      <td>33.4</td>\n",
       "      <td>32.492700</td>\n",
       "    </tr>\n",
       "    <tr>\n",
       "      <td>4</td>\n",
       "      <td>36.2</td>\n",
       "      <td>31.708861</td>\n",
       "    </tr>\n",
       "    <tr>\n",
       "      <td>5</td>\n",
       "      <td>28.7</td>\n",
       "      <td>28.382339</td>\n",
       "    </tr>\n",
       "    <tr>\n",
       "      <td>6</td>\n",
       "      <td>22.9</td>\n",
       "      <td>20.944844</td>\n",
       "    </tr>\n",
       "    <tr>\n",
       "      <td>7</td>\n",
       "      <td>27.1</td>\n",
       "      <td>17.158838</td>\n",
       "    </tr>\n",
       "    <tr>\n",
       "      <td>8</td>\n",
       "      <td>16.5</td>\n",
       "      <td>7.749411</td>\n",
       "    </tr>\n",
       "    <tr>\n",
       "      <td>9</td>\n",
       "      <td>18.9</td>\n",
       "      <td>17.058655</td>\n",
       "    </tr>\n",
       "    <tr>\n",
       "      <td>10</td>\n",
       "      <td>15.0</td>\n",
       "      <td>16.961219</td>\n",
       "    </tr>\n",
       "    <tr>\n",
       "      <td>11</td>\n",
       "      <td>18.9</td>\n",
       "      <td>19.802559</td>\n",
       "    </tr>\n",
       "  </tbody>\n",
       "</table>\n",
       "</div>"
      ],
      "text/plain": [
       "    Actual  Predicted\n",
       "0     24.0  30.408716\n",
       "1     21.6  26.113493\n",
       "2     34.7  32.925006\n",
       "3     33.4  32.492700\n",
       "4     36.2  31.708861\n",
       "5     28.7  28.382339\n",
       "6     22.9  20.944844\n",
       "7     27.1  17.158838\n",
       "8     16.5   7.749411\n",
       "9     18.9  17.058655\n",
       "10    15.0  16.961219\n",
       "11    18.9  19.802559"
      ]
     },
     "execution_count": 121,
     "metadata": {},
     "output_type": "execute_result"
    }
   ],
   "source": [
    "# create a pandas dataframe showing actual 'median_value' and predicted 'median_value'\n",
    "df1 = pd.DataFrame({'Actual': y, 'Predicted': y_pred})\n",
    "df2 = df1.head(12)\n",
    "df2"
   ]
  },
  {
   "cell_type": "code",
   "execution_count": 116,
   "metadata": {},
   "outputs": [
    {
     "data": {
      "text/plain": [
       "<matplotlib.axes._subplots.AxesSubplot at 0x282473a6188>"
      ]
     },
     "execution_count": 116,
     "metadata": {},
     "output_type": "execute_result"
    },
    {
     "data": {
      "image/png": "[encoded data removed]",
      "text/plain": [
       "<Figure size 864x576 with 1 Axes>"
      ]
     },
     "metadata": {
      "needs_background": "light"
     },
     "output_type": "display_data"
    }
   ],
   "source": [
    "# show actual vs predicted median_value in a bar chart\n",
    "df2.plot(kind = 'bar', color = ['red', 'blue'], figsize=(12,8))"
   ]
  },
  {
   "cell_type": "markdown",
   "metadata": {},
   "source": [
    "## Conclusion\n",
    "\n",
    "The multiple linear regression model is reasonably good with a score of 0.63. I will however try to improve this score and accuracy of the model by increasing the number of input / independent variables."
   ]
  },
  {
   "cell_type": "markdown",
   "metadata": {},
   "source": [
    "## Multiple Linear Regression Model - Model 2\n",
    "\n",
    "I will increase the number of input / independent variables to include distance, property_tax, industrial, crime_rate, nitric_oxide and pupil_teacher_ratio. These all have a correlation score of greater than 0.55 rather than 0.6 as in the first model."
   ]
  },
  {
   "cell_type": "code",
   "execution_count": 146,
   "metadata": {},
   "outputs": [
    {
     "data": {
      "text/plain": [
       "crime_rate             0.558891\n",
       "industrial             0.578255\n",
       "nitric_oxide           0.562609\n",
       "rooms                  0.633576\n",
       "property_tax           0.562411\n",
       "pupil_teacher_ratio    0.555905\n",
       "lower_status           0.852914\n",
       "median_value           1.000000\n",
       "Name: median_value, dtype: float64"
      ]
     },
     "execution_count": 146,
     "metadata": {},
     "output_type": "execute_result"
    }
   ],
   "source": [
    "# Correlation with target variable\n",
    "cor_target = abs(cor[\"median_value\"])\n",
    "\n",
    "# Selecting highly correlated features\n",
    "relevant_features = cor_target[cor_target>0.55]\n",
    "\n",
    "# print the relevant_features\n",
    "relevant_features"
   ]
  },
  {
   "cell_type": "code",
   "execution_count": 147,
   "metadata": {},
   "outputs": [
    {
     "data": {
      "text/plain": [
       "LinearRegression(copy_X=True, fit_intercept=True, n_jobs=None, normalize=False)"
      ]
     },
     "execution_count": 147,
     "metadata": {},
     "output_type": "execute_result"
    }
   ],
   "source": [
    "# import linear_model from sklearn.\n",
    "import sklearn.linear_model as lm\n",
    "import pandas as pd\n",
    "\n",
    "# Create a linear regression model instance\n",
    "m = lm.LinearRegression()\n",
    "\n",
    "boston.columns\n",
    "\n",
    "# we want to do linear regression on these input variables to predict median_value\n",
    "x1 = boston[['rooms','lower_status', 'distance', 'property_tax', 'industrial', 'crime_rate', 'pupil_teacher_ratio', 'nitric_oxide']]\n",
    "\n",
    "# median_value is set as the dependent variable y\n",
    "y1 = boston['median_value']\n",
    "\n",
    "# Ask model to fit the data - take the x array and fit it to the y value\n",
    "m.fit(x1, y1)"
   ]
  },
  {
   "cell_type": "code",
   "execution_count": 148,
   "metadata": {},
   "outputs": [
    {
     "data": {
      "text/plain": [
       "35.94638971549136"
      ]
     },
     "execution_count": 148,
     "metadata": {},
     "output_type": "execute_result"
    }
   ],
   "source": [
    "# calculate the y intercept\n",
    "m.intercept_"
   ]
  },
  {
   "cell_type": "code",
   "execution_count": 149,
   "metadata": {},
   "outputs": [
    {
     "data": {
      "text/plain": [
       "array([ 4.18445370e+00, -5.50608830e-01, -1.25860779e+00,  1.37865546e-03,\n",
       "       -5.86973845e-02, -7.92832200e-02, -9.99921464e-01, -1.64712645e+01])"
      ]
     },
     "execution_count": 149,
     "metadata": {},
     "output_type": "execute_result"
    }
   ],
   "source": [
    "# calculate the eight coefficients\n",
    "m.coef_"
   ]
  },
  {
   "cell_type": "code",
   "execution_count": 150,
   "metadata": {},
   "outputs": [
    {
     "data": {
      "text/plain": [
       "0.7119685757673248"
      ]
     },
     "execution_count": 150,
     "metadata": {},
     "output_type": "execute_result"
    }
   ],
   "source": [
    "# See how good the fit is by scoring it - the best possible score is 1.0\n",
    "m.score(x1, y1)"
   ]
  },
  {
   "cell_type": "code",
   "execution_count": 151,
   "metadata": {},
   "outputs": [],
   "source": [
    "# print the median_value predictions\n",
    "y_pred1 = m.predict(x1)"
   ]
  },
  {
   "cell_type": "code",
   "execution_count": 152,
   "metadata": {},
   "outputs": [
    {
     "data": {
      "text/html": [
       "<div>\n",
       "<style scoped>\n",
       "    .dataframe tbody tr th:only-of-type {\n",
       "        vertical-align: middle;\n",
       "    }\n",
       "\n",
       "    .dataframe tbody tr th {\n",
       "        vertical-align: top;\n",
       "    }\n",
       "\n",
       "    .dataframe thead th {\n",
       "        text-align: right;\n",
       "    }\n",
       "</style>\n",
       "<table border=\"1\" class=\"dataframe\">\n",
       "  <thead>\n",
       "    <tr style=\"text-align: right;\">\n",
       "      <th></th>\n",
       "      <th>Actual</th>\n",
       "      <th>Predicted</th>\n",
       "    </tr>\n",
       "  </thead>\n",
       "  <tbody>\n",
       "    <tr>\n",
       "      <td>0</td>\n",
       "      <td>24.0</td>\n",
       "      <td>31.681086</td>\n",
       "    </tr>\n",
       "    <tr>\n",
       "      <td>1</td>\n",
       "      <td>21.6</td>\n",
       "      <td>25.923425</td>\n",
       "    </tr>\n",
       "    <tr>\n",
       "      <td>2</td>\n",
       "      <td>34.7</td>\n",
       "      <td>31.933961</td>\n",
       "    </tr>\n",
       "    <tr>\n",
       "      <td>3</td>\n",
       "      <td>33.4</td>\n",
       "      <td>29.913639</td>\n",
       "    </tr>\n",
       "    <tr>\n",
       "      <td>4</td>\n",
       "      <td>36.2</td>\n",
       "      <td>29.218259</td>\n",
       "    </tr>\n",
       "    <tr>\n",
       "      <td>5</td>\n",
       "      <td>28.7</td>\n",
       "      <td>26.287187</td>\n",
       "    </tr>\n",
       "    <tr>\n",
       "      <td>6</td>\n",
       "      <td>22.9</td>\n",
       "      <td>23.390834</td>\n",
       "    </tr>\n",
       "    <tr>\n",
       "      <td>7</td>\n",
       "      <td>27.1</td>\n",
       "      <td>19.864937</td>\n",
       "    </tr>\n",
       "    <tr>\n",
       "      <td>8</td>\n",
       "      <td>16.5</td>\n",
       "      <td>11.494665</td>\n",
       "    </tr>\n",
       "    <tr>\n",
       "      <td>9</td>\n",
       "      <td>18.9</td>\n",
       "      <td>19.481154</td>\n",
       "    </tr>\n",
       "    <tr>\n",
       "      <td>10</td>\n",
       "      <td>15.0</td>\n",
       "      <td>19.501929</td>\n",
       "    </tr>\n",
       "    <tr>\n",
       "      <td>11</td>\n",
       "      <td>18.9</td>\n",
       "      <td>22.074971</td>\n",
       "    </tr>\n",
       "  </tbody>\n",
       "</table>\n",
       "</div>"
      ],
      "text/plain": [
       "    Actual  Predicted\n",
       "0     24.0  31.681086\n",
       "1     21.6  25.923425\n",
       "2     34.7  31.933961\n",
       "3     33.4  29.913639\n",
       "4     36.2  29.218259\n",
       "5     28.7  26.287187\n",
       "6     22.9  23.390834\n",
       "7     27.1  19.864937\n",
       "8     16.5  11.494665\n",
       "9     18.9  19.481154\n",
       "10    15.0  19.501929\n",
       "11    18.9  22.074971"
      ]
     },
     "execution_count": 152,
     "metadata": {},
     "output_type": "execute_result"
    }
   ],
   "source": [
    "# create a pandas dataframe showing actual 'median_value' and predicted 'median_value'\n",
    "df3 = pd.DataFrame({'Actual': y1, 'Predicted': y_pred1})\n",
    "df4 = df3.head(12)\n",
    "df4"
   ]
  },
  {
   "cell_type": "code",
   "execution_count": 153,
   "metadata": {},
   "outputs": [
    {
     "data": {
      "text/plain": [
       "<matplotlib.axes._subplots.AxesSubplot at 0x28242d7a788>"
      ]
     },
     "execution_count": 153,
     "metadata": {},
     "output_type": "execute_result"
    },
    {
     "data": {
      "image/png": "[encoded data removed]",
      "text/plain": [
       "<Figure size 864x576 with 1 Axes>"
      ]
     },
     "metadata": {
      "needs_background": "light"
     },
     "output_type": "display_data"
    }
   ],
   "source": [
    "# show actual vs predicted median_value in a bar chart\n",
    "df4.plot(kind = 'bar', color = ['red', 'blue'], figsize=(12,8))"
   ]
  },
  {
   "cell_type": "markdown",
   "metadata": {},
   "source": [
    "## Conclusion\n",
    "\n",
    "The multiple linear regression model has improved and now has a score of 0.71. I will again try to improve this score and the accuracy of the model by using the train and test method of linear regression."
   ]
  },
  {
   "cell_type": "markdown",
   "metadata": {},
   "source": [
    "## Multiple Linear Regression Model - Model 3\n",
    "\n",
    "As the accuracy of the model improved when using more input variables I use the same eight input variables that I used with model 2 and split the data into training and testing datasets with an 90:10 split."
   ]
  },
  {
   "cell_type": "code",
   "execution_count": 191,
   "metadata": {},
   "outputs": [],
   "source": [
    "# import linear_model from sklearn.\n",
    "import sklearn.linear_model as lm\n",
    "import pandas as pd\n",
    "\n",
    "# Create a linear regression model instance\n",
    "m = lm.LinearRegression()\n",
    "\n",
    "boston.columns\n",
    "\n",
    "# we want to do linear regression on these input variables to predict median_value\n",
    "x2 = boston[['rooms','lower_status', 'crime_rate', 'industrial', 'distance', 'property_tax', 'pupil_teacher_ratio', 'nitric_oxide']]\n",
    "\n",
    "# median_value is set as the dependent variable y\n",
    "y2 = boston['median_value']"
   ]
  },
  {
   "cell_type": "code",
   "execution_count": 225,
   "metadata": {},
   "outputs": [
    {
     "name": "stdout",
     "output_type": "stream",
     "text": [
      "455 train set +  51 test set\n",
      "506\n",
      "0.8992094861660079\n",
      "0.1007905138339921\n"
     ]
    }
   ],
   "source": [
    "# Use train_test_split from sklearn to shuffle the data into training and testing sets\n",
    "X_train, X_test, y_train, y_test = train_test_split(x2, y2, test_size = 0.1, random_state=4)\n",
    "\n",
    "# print how many are in the training and testing sets\n",
    "print(len(X_train), \"train set + \", len(X_test), \"test set\")\n",
    "\n",
    "# Check if split is actually correct - 90 / 10 split\n",
    "print(x2.shape[0])\n",
    "print(float(X_train.shape[0]) / float(x2.shape[0]))\n",
    "print(float(X_test.shape[0]) / float(x2.shape[0]))"
   ]
  },
  {
   "cell_type": "code",
   "execution_count": 221,
   "metadata": {},
   "outputs": [
    {
     "data": {
      "text/plain": [
       "LinearRegression(copy_X=True, fit_intercept=True, n_jobs=None, normalize=False)"
      ]
     },
     "execution_count": 221,
     "metadata": {},
     "output_type": "execute_result"
    }
   ],
   "source": [
    "m.fit(X_train, y_train)"
   ]
  },
  {
   "cell_type": "code",
   "execution_count": 217,
   "metadata": {},
   "outputs": [
    {
     "data": {
      "text/plain": [
       "35.04795522620081"
      ]
     },
     "execution_count": 217,
     "metadata": {},
     "output_type": "execute_result"
    }
   ],
   "source": [
    "# calculate the y intercept\n",
    "m.intercept_"
   ]
  },
  {
   "cell_type": "code",
   "execution_count": 218,
   "metadata": {},
   "outputs": [
    {
     "data": {
      "text/plain": [
       "array([ 4.12798721e+00, -5.31453100e-01, -8.40547519e-02, -3.54141171e-02,\n",
       "       -1.19593739e+00,  7.32383167e-04, -9.93104456e-01, -1.53616016e+01])"
      ]
     },
     "execution_count": 218,
     "metadata": {},
     "output_type": "execute_result"
    }
   ],
   "source": [
    "# calculate the eight coefficients\n",
    "m.coef_"
   ]
  },
  {
   "cell_type": "code",
   "execution_count": 222,
   "metadata": {},
   "outputs": [
    {
     "data": {
      "text/plain": [
       "0.7967369837489767"
      ]
     },
     "execution_count": 222,
     "metadata": {},
     "output_type": "execute_result"
    }
   ],
   "source": [
    "# See how good the fit is by scoring it - the best possible score is 1.0\n",
    "m.score(X_test, y_test)"
   ]
  },
  {
   "cell_type": "markdown",
   "metadata": {},
   "source": [
    "## Conclusion\n",
    "\n",
    "The multiple linear regression model has improved and now has a score of 0.80. I changed the random state from 9 to 45 to 4 - random_state=4 gave the improved score of 0.80. To see if a better score can be achieved I will use another model called 'GradientBoostingRegressor' which is a model available through sklearn."
   ]
  },
  {
   "cell_type": "code",
   "execution_count": null,
   "metadata": {},
   "outputs": [],
   "source": []
  },
  {
   "cell_type": "code",
   "execution_count": null,
   "metadata": {},
   "outputs": [],
   "source": []
  },
  {
   "cell_type": "code",
   "execution_count": null,
   "metadata": {},
   "outputs": [],
   "source": []
  },
  {
   "cell_type": "code",
   "execution_count": null,
   "metadata": {},
   "outputs": [],
   "source": []
  },
  {
   "cell_type": "markdown",
   "metadata": {},
   "source": [
    "# NOTES\n",
    "- Have to use peer reviewed articles\n",
    "- Normalise Data\n",
    "- remove outliers\n",
    "- linear regression\n",
    "- linear regression to predict house prices\n",
    "- Need to include references"
   ]
  },
  {
   "cell_type": "markdown",
   "metadata": {},
   "source": [
    "## References\n",
    "\n",
    "https://realpython.com/linear-regression-in-python/"
   ]
  },
  {
   "cell_type": "code",
   "execution_count": null,
   "metadata": {},
   "outputs": [],
   "source": []
  }
 ],
 "metadata": {
  "kernelspec": {
   "display_name": "Python 3",
   "language": "python",
   "name": "python3"
  },
  "language_info": {
   "codemirror_mode": {
    "name": "ipython",
    "version": 3
   },
   "file_extension": ".py",
   "mimetype": "text/x-python",
   "name": "python",
   "nbconvert_exporter": "python",
   "pygments_lexer": "ipython3",
   "version": "3.7.4"
  }
 },
 "nbformat": 4,
 "nbformat_minor": 2
}
